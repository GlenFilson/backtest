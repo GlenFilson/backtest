{
 "cells": [
  {
   "cell_type": "code",
   "execution_count": 1,
   "id": "d584a967",
   "metadata": {},
   "outputs": [
    {
     "name": "stderr",
     "output_type": "stream",
     "text": [
      "/opt/homebrew/Caskroom/miniconda/base/envs/bot/lib/python3.13/site-packages/backtesting/_plotting.py:55: UserWarning: Jupyter Notebook detected. Setting Bokeh output to notebook. This may not work in Jupyter clients without JavaScript support, such as old IDEs. Reset with `backtesting.set_bokeh_output(notebook=False)`.\n",
      "  warnings.warn('Jupyter Notebook detected. '\n"
     ]
    },
    {
     "data": {
      "text/html": [
       "    <style>\n",
       "        .bk-notebook-logo {\n",
       "            display: block;\n",
       "            width: 20px;\n",
       "            height: 20px;\n",
       "            background-image: url(data:image/png;base64,iVBORw0KGgoAAAANSUhEUgAAABQAAAAUCAYAAACNiR0NAAAABHNCSVQICAgIfAhkiAAAAAlwSFlzAAALEgAACxIB0t1+/AAAABx0RVh0U29mdHdhcmUAQWRvYmUgRmlyZXdvcmtzIENTNui8sowAAAOkSURBVDiNjZRtaJVlGMd/1/08zzln5zjP1LWcU9N0NkN8m2CYjpgQYQXqSs0I84OLIC0hkEKoPtiH3gmKoiJDU7QpLgoLjLIQCpEsNJ1vqUOdO7ppbuec5+V+rj4ctwzd8IIbbi6u+8f1539dt3A78eXC7QizUF7gyV1fD1Yqg4JWz84yffhm0qkFqBogB9rM8tZdtwVsPUhWhGcFJngGeWrPzHm5oaMmkfEg1usvLFyc8jLRqDOMru7AyC8saQr7GG7f5fvDeH7Ej8CM66nIF+8yngt6HWaKh7k49Soy9nXurCi1o3qUbS3zWfrYeQDTB/Qj6kX6Ybhw4B+bOYoLKCC9H3Nu/leUTZ1JdRWkkn2ldcCamzrcf47KKXdAJllSlxAOkRgyHsGC/zRday5Qld9DyoM4/q/rUoy/CXh3jzOu3bHUVZeU+DEn8FInkPBFlu3+nW3Nw0mk6vCDiWg8CeJaxEwuHS3+z5RgY+YBR6V1Z1nxSOfoaPa4LASWxxdNp+VWTk7+4vzaou8v8PN+xo+KY2xsw6une2frhw05CTYOmQvsEhjhWjn0bmXPjpE1+kplmmkP3suftwTubK9Vq22qKmrBhpY4jvd5afdRA3wGjFAgcnTK2s4hY0/GPNIb0nErGMCRxWOOX64Z8RAC4oCXdklmEvcL8o0BfkNK4lUg9HTl+oPlQxdNo3Mg4Nv175e/1LDGzZen30MEjRUtmXSfiTVu1kK8W4txyV6BMKlbgk3lMwYCiusNy9fVfvvwMxv8Ynl6vxoByANLTWplvuj/nF9m2+PDtt1eiHPBr1oIfhCChQMBw6Aw0UulqTKZdfVvfG7VcfIqLG9bcldL/+pdWTLxLUy8Qq38heUIjh4XlzZxzQm19lLFlr8vdQ97rjZVOLf8nclzckbcD4wxXMidpX30sFd37Fv/GtwwhzhxGVAprjbg0gCAEeIgwCZyTV2Z1REEW8O4py0wsjeloKoMr6iCY6dP92H6Vw/oTyICIthibxjm/DfN9lVz8IqtqKYLUXfoKVMVQVVJOElGjrnnUt9T9wbgp8AyYKaGlqingHZU/uG2NTZSVqwHQTWkx9hxjkpWDaCg6Ckj5qebgBVbT3V3NNXMSiWSDdGV3hrtzla7J+duwPOToIg42ChPQOQjspnSlp1V+Gjdged7+8UN5CRAV7a5EdFNwCjEaBR27b3W890TE7g24NAP/mMDXRWrGoFPQI9ls/MWO2dWFAar/xcOIImbbpA3zgAAAABJRU5ErkJggg==);\n",
       "        }\n",
       "    </style>\n",
       "    <div>\n",
       "        <a href=\"https://bokeh.org\" target=\"_blank\" class=\"bk-notebook-logo\"></a>\n",
       "        <span id=\"c4e1e711-3414-4584-9c5b-ee929066b8a7\">Loading BokehJS ...</span>\n",
       "    </div>\n"
      ]
     },
     "metadata": {},
     "output_type": "display_data"
    },
    {
     "data": {
      "application/javascript": "'use strict';\n(function(root) {\n  function now() {\n    return new Date();\n  }\n\n  const force = true;\n\n  if (typeof root._bokeh_onload_callbacks === \"undefined\" || force === true) {\n    root._bokeh_onload_callbacks = [];\n    root._bokeh_is_loading = undefined;\n  }\n\nconst JS_MIME_TYPE = 'application/javascript';\n  const HTML_MIME_TYPE = 'text/html';\n  const EXEC_MIME_TYPE = 'application/vnd.bokehjs_exec.v0+json';\n  const CLASS_NAME = 'output_bokeh rendered_html';\n\n  /**\n   * Render data to the DOM node\n   */\n  function render(props, node) {\n    const script = document.createElement(\"script\");\n    node.appendChild(script);\n  }\n\n  /**\n   * Handle when an output is cleared or removed\n   */\n  function handleClearOutput(event, handle) {\n    function drop(id) {\n      const view = Bokeh.index.get_by_id(id)\n      if (view != null) {\n        view.model.document.clear()\n        Bokeh.index.delete(view)\n      }\n    }\n\n    const cell = handle.cell;\n\n    const id = cell.output_area._bokeh_element_id;\n    const server_id = cell.output_area._bokeh_server_id;\n\n    // Clean up Bokeh references\n    if (id != null) {\n      drop(id)\n    }\n\n    if (server_id !== undefined) {\n      // Clean up Bokeh references\n      const cmd_clean = \"from bokeh.io.state import curstate; print(curstate().uuid_to_server['\" + server_id + \"'].get_sessions()[0].document.roots[0]._id)\";\n      cell.notebook.kernel.execute(cmd_clean, {\n        iopub: {\n          output: function(msg) {\n            const id = msg.content.text.trim()\n            drop(id)\n          }\n        }\n      });\n      // Destroy server and session\n      const cmd_destroy = \"import bokeh.io.notebook as ion; ion.destroy_server('\" + server_id + \"')\";\n      cell.notebook.kernel.execute(cmd_destroy);\n    }\n  }\n\n  /**\n   * Handle when a new output is added\n   */\n  function handleAddOutput(event, handle) {\n    const output_area = handle.output_area;\n    const output = handle.output;\n\n    // limit handleAddOutput to display_data with EXEC_MIME_TYPE content only\n    if ((output.output_type != \"display_data\") || (!Object.prototype.hasOwnProperty.call(output.data, EXEC_MIME_TYPE))) {\n      return\n    }\n\n    const toinsert = output_area.element.find(\".\" + CLASS_NAME.split(' ')[0]);\n\n    if (output.metadata[EXEC_MIME_TYPE][\"id\"] !== undefined) {\n      toinsert[toinsert.length - 1].firstChild.textContent = output.data[JS_MIME_TYPE];\n      // store reference to embed id on output_area\n      output_area._bokeh_element_id = output.metadata[EXEC_MIME_TYPE][\"id\"];\n    }\n    if (output.metadata[EXEC_MIME_TYPE][\"server_id\"] !== undefined) {\n      const bk_div = document.createElement(\"div\");\n      bk_div.innerHTML = output.data[HTML_MIME_TYPE];\n      const script_attrs = bk_div.children[0].attributes;\n      for (let i = 0; i < script_attrs.length; i++) {\n        toinsert[toinsert.length - 1].firstChild.setAttribute(script_attrs[i].name, script_attrs[i].value);\n        toinsert[toinsert.length - 1].firstChild.textContent = bk_div.children[0].textContent\n      }\n      // store reference to server id on output_area\n      output_area._bokeh_server_id = output.metadata[EXEC_MIME_TYPE][\"server_id\"];\n    }\n  }\n\n  function register_renderer(events, OutputArea) {\n\n    function append_mime(data, metadata, element) {\n      // create a DOM node to render to\n      const toinsert = this.create_output_subarea(\n        metadata,\n        CLASS_NAME,\n        EXEC_MIME_TYPE\n      );\n      this.keyboard_manager.register_events(toinsert);\n      // Render to node\n      const props = {data: data, metadata: metadata[EXEC_MIME_TYPE]};\n      render(props, toinsert[toinsert.length - 1]);\n      element.append(toinsert);\n      return toinsert\n    }\n\n    /* Handle when an output is cleared or removed */\n    events.on('clear_output.CodeCell', handleClearOutput);\n    events.on('delete.Cell', handleClearOutput);\n\n    /* Handle when a new output is added */\n    events.on('output_added.OutputArea', handleAddOutput);\n\n    /**\n     * Register the mime type and append_mime function with output_area\n     */\n    OutputArea.prototype.register_mime_type(EXEC_MIME_TYPE, append_mime, {\n      /* Is output safe? */\n      safe: true,\n      /* Index of renderer in `output_area.display_order` */\n      index: 0\n    });\n  }\n\n  // register the mime type if in Jupyter Notebook environment and previously unregistered\n  if (root.Jupyter !== undefined) {\n    const events = require('base/js/events');\n    const OutputArea = require('notebook/js/outputarea').OutputArea;\n\n    if (OutputArea.prototype.mime_types().indexOf(EXEC_MIME_TYPE) == -1) {\n      register_renderer(events, OutputArea);\n    }\n  }\n  if (typeof (root._bokeh_timeout) === \"undefined\" || force === true) {\n    root._bokeh_timeout = Date.now() + 5000;\n    root._bokeh_failed_load = false;\n  }\n\n  const NB_LOAD_WARNING = {'data': {'text/html':\n     \"<div style='background-color: #fdd'>\\n\"+\n     \"<p>\\n\"+\n     \"BokehJS does not appear to have successfully loaded. If loading BokehJS from CDN, this \\n\"+\n     \"may be due to a slow or bad network connection. Possible fixes:\\n\"+\n     \"</p>\\n\"+\n     \"<ul>\\n\"+\n     \"<li>re-rerun `output_notebook()` to attempt to load from CDN again, or</li>\\n\"+\n     \"<li>use INLINE resources instead, as so:</li>\\n\"+\n     \"</ul>\\n\"+\n     \"<code>\\n\"+\n     \"from bokeh.resources import INLINE\\n\"+\n     \"output_notebook(resources=INLINE)\\n\"+\n     \"</code>\\n\"+\n     \"</div>\"}};\n\n  function display_loaded(error = null) {\n    const el = document.getElementById(\"c4e1e711-3414-4584-9c5b-ee929066b8a7\");\n    if (el != null) {\n      const html = (() => {\n        if (typeof root.Bokeh === \"undefined\") {\n          if (error == null) {\n            return \"BokehJS is loading ...\";\n          } else {\n            return \"BokehJS failed to load.\";\n          }\n        } else {\n          const prefix = `BokehJS ${root.Bokeh.version}`;\n          if (error == null) {\n            return `${prefix} successfully loaded.`;\n          } else {\n            return `${prefix} <b>encountered errors</b> while loading and may not function as expected.`;\n          }\n        }\n      })();\n      el.innerHTML = html;\n\n      if (error != null) {\n        const wrapper = document.createElement(\"div\");\n        wrapper.style.overflow = \"auto\";\n        wrapper.style.height = \"5em\";\n        wrapper.style.resize = \"vertical\";\n        const content = document.createElement(\"div\");\n        content.style.fontFamily = \"monospace\";\n        content.style.whiteSpace = \"pre-wrap\";\n        content.style.backgroundColor = \"rgb(255, 221, 221)\";\n        content.textContent = error.stack ?? error.toString();\n        wrapper.append(content);\n        el.append(wrapper);\n      }\n    } else if (Date.now() < root._bokeh_timeout) {\n      setTimeout(() => display_loaded(error), 100);\n    }\n  }\n\n  function run_callbacks() {\n    try {\n      root._bokeh_onload_callbacks.forEach(function(callback) {\n        if (callback != null)\n          callback();\n      });\n    } finally {\n      delete root._bokeh_onload_callbacks\n    }\n    console.debug(\"Bokeh: all callbacks have finished\");\n  }\n\n  function load_libs(css_urls, js_urls, callback) {\n    if (css_urls == null) css_urls = [];\n    if (js_urls == null) js_urls = [];\n\n    root._bokeh_onload_callbacks.push(callback);\n    if (root._bokeh_is_loading > 0) {\n      console.debug(\"Bokeh: BokehJS is being loaded, scheduling callback at\", now());\n      return null;\n    }\n    if (js_urls == null || js_urls.length === 0) {\n      run_callbacks();\n      return null;\n    }\n    console.debug(\"Bokeh: BokehJS not loaded, scheduling load and callback at\", now());\n    root._bokeh_is_loading = css_urls.length + js_urls.length;\n\n    function on_load() {\n      root._bokeh_is_loading--;\n      if (root._bokeh_is_loading === 0) {\n        console.debug(\"Bokeh: all BokehJS libraries/stylesheets loaded\");\n        run_callbacks()\n      }\n    }\n\n    function on_error(url) {\n      console.error(\"failed to load \" + url);\n    }\n\n    for (let i = 0; i < css_urls.length; i++) {\n      const url = css_urls[i];\n      const element = document.createElement(\"link\");\n      element.onload = on_load;\n      element.onerror = on_error.bind(null, url);\n      element.rel = \"stylesheet\";\n      element.type = \"text/css\";\n      element.href = url;\n      console.debug(\"Bokeh: injecting link tag for BokehJS stylesheet: \", url);\n      document.body.appendChild(element);\n    }\n\n    for (let i = 0; i < js_urls.length; i++) {\n      const url = js_urls[i];\n      const element = document.createElement('script');\n      element.onload = on_load;\n      element.onerror = on_error.bind(null, url);\n      element.async = false;\n      element.src = url;\n      console.debug(\"Bokeh: injecting script tag for BokehJS library: \", url);\n      document.head.appendChild(element);\n    }\n  };\n\n  function inject_raw_css(css) {\n    const element = document.createElement(\"style\");\n    element.appendChild(document.createTextNode(css));\n    document.body.appendChild(element);\n  }\n\n  const js_urls = [\"https://cdn.bokeh.org/bokeh/release/bokeh-3.8.0.min.js\", \"https://cdn.bokeh.org/bokeh/release/bokeh-gl-3.8.0.min.js\", \"https://cdn.bokeh.org/bokeh/release/bokeh-widgets-3.8.0.min.js\", \"https://cdn.bokeh.org/bokeh/release/bokeh-tables-3.8.0.min.js\", \"https://cdn.bokeh.org/bokeh/release/bokeh-mathjax-3.8.0.min.js\"];\n  const css_urls = [];\n\n  const inline_js = [    function(Bokeh) {\n      Bokeh.set_log_level(\"info\");\n    },\nfunction(Bokeh) {\n    }\n  ];\n\n  function run_inline_js() {\n    if (root.Bokeh !== undefined || force === true) {\n      try {\n            for (let i = 0; i < inline_js.length; i++) {\n      inline_js[i].call(root, root.Bokeh);\n    }\n\n      } catch (error) {display_loaded(error);throw error;\n      }if (force === true) {\n        display_loaded();\n      }} else if (Date.now() < root._bokeh_timeout) {\n      setTimeout(run_inline_js, 100);\n    } else if (!root._bokeh_failed_load) {\n      console.log(\"Bokeh: BokehJS failed to load within specified timeout.\");\n      root._bokeh_failed_load = true;\n    } else if (force !== true) {\n      const cell = $(document.getElementById(\"c4e1e711-3414-4584-9c5b-ee929066b8a7\")).parents('.cell').data().cell;\n      cell.output_area.append_execute_result(NB_LOAD_WARNING)\n    }\n  }\n\n  if (root._bokeh_is_loading === 0) {\n    console.debug(\"Bokeh: BokehJS loaded, going straight to plotting\");\n    run_inline_js();\n  } else {\n    load_libs(css_urls, js_urls, function() {\n      console.debug(\"Bokeh: BokehJS plotting callback run at\", now());\n      run_inline_js();\n    });\n  }\n}(window));",
      "application/vnd.bokehjs_load.v0+json": ""
     },
     "metadata": {},
     "output_type": "display_data"
    }
   ],
   "source": [
    "import pandas as pd\n",
    "from backtesting import Backtest, Strategy\n"
   ]
  },
  {
   "cell_type": "markdown",
   "id": "3f8a93fa",
   "metadata": {},
   "source": [
    "# Reading in data and setting up training and testing sets\n",
    "- Here we have set up a 70 / 30 training / testing set data split\n",
    "- The reason for setting up training and testing sets is so we can optimise parameters on the training set, and then test them on our testing set to see if the parameters work on unseen data"
   ]
  },
  {
   "cell_type": "code",
   "execution_count": 2,
   "id": "33561f07",
   "metadata": {},
   "outputs": [
    {
     "name": "stdout",
     "output_type": "stream",
     "text": [
      "                       Open    High     Low   Close\n",
      "timestamp                                          \n",
      "2023-10-30 13:00:00   34.76   35.05   34.60   34.70\n",
      "2023-10-30 14:00:00   34.70   35.00   34.51   34.80\n",
      "2023-10-30 15:00:00   34.81   35.13   34.78   35.04\n",
      "2023-10-30 16:00:00   35.04   35.05   34.78   34.88\n",
      "2023-10-30 17:00:00   34.88   34.96   34.23   34.89\n",
      "...                     ...     ...     ...     ...\n",
      "2025-10-29 08:00:00  195.65  195.73  194.02  194.50\n",
      "2025-10-29 09:00:00  194.50  194.74  193.78  194.21\n",
      "2025-10-29 10:00:00  194.20  197.07  193.95  196.25\n",
      "2025-10-29 11:00:00  196.26  199.37  196.04  198.74\n",
      "2025-10-29 12:00:00  198.74  199.60  198.15  199.46\n",
      "\n",
      "[17520 rows x 4 columns]\n",
      "Training set:\n",
      "               Open          High           Low         Close\n",
      "count  12265.000000  12265.000000  12265.000000  12265.000000\n",
      "mean     149.126347    150.215795    147.995587    149.135415\n",
      "std       48.727494     49.060668     48.384326     48.716787\n",
      "min       34.700000     34.890000     34.230000     34.700000\n",
      "25%      125.210000    126.360000    124.360000    125.210000\n",
      "50%      146.660000    147.570000    145.710000    146.660000\n",
      "75%      179.970000    181.350000    178.300000    179.980000\n",
      "max      286.230000    295.830000    284.200000    286.240000\n",
      "Testing set:\n",
      "              Open         High          Low        Close\n",
      "count  5256.000000  5256.000000  5256.000000  5256.000000\n",
      "mean    173.389817   174.375261   172.358940   173.400516\n",
      "std      31.943193    32.067907    31.788738    31.942462\n",
      "min      97.140000    98.880000    95.260000    97.140000\n",
      "25%     148.455000   149.067500   147.857500   148.457500\n",
      "50%     172.155000   173.020000   171.085000   172.190000\n",
      "75%     196.460000   197.907500   194.787500   196.462500\n",
      "max     251.380000   253.510000   249.830000   251.380000\n"
     ]
    }
   ],
   "source": [
    "df = pd.read_csv('sol_1h_data.csv', parse_dates=True, index_col=0)\n",
    "print(df)\n",
    "\n",
    "\n",
    "split_date = df.index[int(len(df) * 0.7)]\n",
    "\n",
    "#split data into training and testing sets\n",
    "df_train = df.loc[:split_date]\n",
    "df_test = df.loc[split_date:]\n",
    "\n",
    "print('Training set:')\n",
    "print(df_train.describe())\n",
    "print('Testing set:')\n",
    "print(df_test.describe())\n",
    "\n",
    "\n",
    "\n"
   ]
  },
  {
   "cell_type": "markdown",
   "id": "6da1f47b",
   "metadata": {},
   "source": [
    "# Defining our strategy and its parameters\n",
    "- We define our strategy as `SMAStrategy` which is an instance of `Strategy` (a built in class)\n",
    "- We define the parameters that our strategy will use\n",
    "- Our strategy has to have these two functions: `init` and `next`\n",
    "## `init` function\n",
    "- init (initialise) is the function ran when the strategy is created\n",
    "- we use this function to define the logic that our trading bot will use\n",
    "- in this example we precompute short and long simple moving averages (SMAs) of the Close price\n",
    "- these precomputed values can then easily be used in the next function\n",
    "\n",
    "## `next` function\n",
    "- during the backtest, the next function will be ran on every single data point\n",
    "- this is where we include the actual trade execution logic\n",
    "- here we will enter a position (buy) when the short SMA crosses above the long SMA\n",
    "- we will close the position (sell) when the short SMA crosses below the long SMA\n",
    "- NOTE: this is simple logic where we only buy and sell spot, no shorts, we always buy with maximum available capital"
   ]
  },
  {
   "cell_type": "code",
   "execution_count": null,
   "id": "a457d9fc",
   "metadata": {},
   "outputs": [],
   "source": [
    "class SMAStrategy(Strategy):\n",
    "    #define parameters\n",
    "    sma_long_period = 30\n",
    "    sma_short_period = 10\n",
    "\n",
    "    def init(self):\n",
    "        #calculate indicators\n",
    "        close_prices = pd.Series(self.data.Close, index=self.data.index)\n",
    "        sma_short = close_prices.rolling(window=self.sma_short_period).mean()\n",
    "        sma_long = close_prices.rolling(window=self.sma_long_period).mean()\n",
    "        self.sma_short = self.I(lambda: sma_short, name='SMA_SHORT')\n",
    "        self.sma_long = self.I(lambda: sma_long, name='SMA_LONG')\n",
    "\n",
    "    def next(self):\n",
    "        #execute logic\n",
    "        if self.sma_short[-1] > self.sma_long[-1] and self.sma_short[-2] <= self.sma_long[-2]:\n",
    "            self.buy()\n",
    "        elif self.sma_short[-1] < self.sma_long[-1] and self.sma_short[-2] >= self.sma_long[-2]:\n",
    "            self.position.close()"
   ]
  },
  {
   "cell_type": "markdown",
   "id": "0842b119",
   "metadata": {},
   "source": [
    "# Running a backtest on the strategy\n",
    "## Backtest function parameter explanation:\n",
    "- `df_train` - our dataset that we will run the strategy on\n",
    "- `SMAStrategy` - the instance of Strategy that we defined, the trading logic to be backtested\n",
    "- `cash` - how much money the backtest will begin with\n",
    "- `exclusive_orders` - whether or not we can have multiple trades open at the same time, in this instance True means we cannot\n",
    "- `finalize_trades` - at the end of the backtest any open trades will be closed at the final price in the dataset\n",
    "\n",
    "## Displaying key performance metrics\n",
    "- here we print the stats from the backtest\n",
    "- the power of backtesting.py is these metrics, they are all calculated for us allowing us to easily evaluate a strategy across these metrics"
   ]
  },
  {
   "cell_type": "code",
   "execution_count": null,
   "id": "1bed6f89",
   "metadata": {},
   "outputs": [],
   "source": [
    "#run the Backtest function\n",
    "bt_train = Backtest(...)\n",
    "stats = ...\n",
    "print(stats)"
   ]
  },
  {
   "cell_type": "markdown",
   "id": "f18f75e3",
   "metadata": {},
   "source": [
    "# Plotting the strategy to see a visualisation of the performance"
   ]
  },
  {
   "cell_type": "code",
   "execution_count": null,
   "id": "435b1d7d",
   "metadata": {},
   "outputs": [],
   "source": [
    "#plot the strategy "
   ]
  },
  {
   "cell_type": "markdown",
   "id": "71f05594",
   "metadata": {},
   "source": [
    "# Now to optimise the strategy\n",
    "- Our strategy has parameters (e.g. `sma_short_period`, `sma_long_period`) we can optimise the strategy to find the best parameters\n",
    "- We can optimise for whatever we would like, in this instance we optimise for Sharpe Ratio\n",
    "- The optimise function will simply run through all possible combinations of parameters and find the one with the highest Sharpe Ratio\n",
    "- This can be slow, so we can add constraints for parameter combinations that we will allow. e.g. `sma_short_period` must be lower than `sma_long_period`\n"
   ]
  },
  {
   "cell_type": "code",
   "execution_count": null,
   "id": "871dc541",
   "metadata": {},
   "outputs": [],
   "source": [
    "def optimise(series):\n",
    "    #create an optimisation function to maximise for\n",
    "    pass\n",
    "\n",
    "def constraint(series):\n",
    "    #set up constraints to limit search space\n",
    "    pass\n"
   ]
  },
  {
   "cell_type": "markdown",
   "id": "566c4eae",
   "metadata": {},
   "source": [
    "# Running the optimisation\n",
    "- We provide ranges of values for each parameter that we want to be tested\n",
    "- `sma_short_period=range(10,20,5)` will test all combinations of the short SMA period from 10 to 20 incrementing by 5 each time. That is 10, 15, 20\n",
    "- as it is doing an exhaustive search, running backtests for all combinations, it can take a long time if we specify lots of values\n",
    "- take note that we specified to maximize for our optimise function (`maximize=optimise`), so it will find the parameters that maximise for whatever our optimise function returns. \n",
    "- It is important to note that if we wanted to optimise to minimise a metric we would change this, e.g. minimise the maximum drawdown faced by the strategy\n"
   ]
  },
  {
   "cell_type": "code",
   "execution_count": null,
   "id": "3f106f97",
   "metadata": {},
   "outputs": [],
   "source": [
    "stats_optimised = bt_train.optimize(\n",
    "    #set ranges of parameters to test\n",
    "    sma_short_period=..., \n",
    "    sma_long_period=..., \n",
    "    maximize=optimise, \n",
    "    constraint=constraint)"
   ]
  },
  {
   "cell_type": "code",
   "execution_count": null,
   "id": "9b5c649a",
   "metadata": {},
   "outputs": [],
   "source": [
    "print(stats)\n",
    "stats._strategy"
   ]
  },
  {
   "cell_type": "markdown",
   "id": "722ca685",
   "metadata": {},
   "source": [
    "# Now we will test the optimized parameters on the testing set\n",
    "- Here, we pass in `df_test`, our testing dataset which contains unseen data.  \n",
    "- We again call `.run()`, but this time we pass in our optimized parameters `.run(**stats_optimised._strategy._params)`. This runs the backtest using those parameters rather than the ones defined in the Strategy class.  \n",
    "- Finally, we print the performance statistics of this backtest to see how our optimized parameters performed on the testing set.  \n",
    "\n",
    "## Did we overfit?\n",
    "- We want to determine whether the optimized parameters were overfitted to the training set.  \n",
    "- Overfitting occurs when a strategy learns patterns that are too specific to the training data, failing to capture the general, repeatable signals we are aiming for.  \n",
    "- As a result, it performs well on the training data but fails to replicate that performance on unseen testing data.\n",
    "- We can compare performance on training set and testing set to determine if the parameters were overfit\n"
   ]
  },
  {
   "cell_type": "code",
   "execution_count": null,
   "id": "bc1b42f3",
   "metadata": {},
   "outputs": [],
   "source": [
    "bt_test = Backtest()\n",
    "#run the backtest with optimised parameters\n",
    "test_stats = bt_test.run(...)\n",
    "\n",
    "#printing all stats side by side for comparison\n",
    "print(f\"{'Metric':<30} | {'TRAINING (Before)':<25} | {'TRAINING (Optimized)':<25} | {'TEST SET':<25}\")\n",
    "print(\"-\" * 115)\n",
    "\n",
    "for metric in stats.index:\n",
    "    if metric not in ['_strategy', '_equity_curve', '_trades']:\n",
    "        train_before_val = stats[metric]\n",
    "        train_after_val = stats_optimised[metric]\n",
    "        test_val = test_stats[metric]\n",
    "        print(f\"{metric:<30} | {str(train_before_val):<25} | {str(train_after_val):<25} | {str(test_val):<25}\")\n"
   ]
  },
  {
   "cell_type": "markdown",
   "id": "cc3f10ce",
   "metadata": {},
   "source": [
    "# Plotting the optimised strategy on our test set to visualise its performance\n"
   ]
  },
  {
   "cell_type": "code",
   "execution_count": null,
   "id": "e75beaeb",
   "metadata": {},
   "outputs": [],
   "source": [
    "#plot the optimised strategy\n"
   ]
  }
 ],
 "metadata": {
  "kernelspec": {
   "display_name": "bot",
   "language": "python",
   "name": "python3"
  },
  "language_info": {
   "codemirror_mode": {
    "name": "ipython",
    "version": 3
   },
   "file_extension": ".py",
   "mimetype": "text/x-python",
   "name": "python",
   "nbconvert_exporter": "python",
   "pygments_lexer": "ipython3",
   "version": "3.13.9"
  }
 },
 "nbformat": 4,
 "nbformat_minor": 5
}
