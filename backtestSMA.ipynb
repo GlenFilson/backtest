{
 "cells": [
  {
   "cell_type": "code",
   "execution_count": null,
   "id": "d584a967",
   "metadata": {},
   "outputs": [],
   "source": [
    "import pandas as pd\n",
    "from backtesting import Backtest, Strategy\n"
   ]
  },
  {
   "cell_type": "markdown",
   "id": "3f8a93fa",
   "metadata": {},
   "source": [
    "# Reading in data and setting up training and testing sets\n",
    "- Here we have set up a 70 / 30 training / testing set data split\n",
    "- The reason for setting up training and testing sets is so we can optimise parameters on the training set, and then test them on our testing set to see if the parameters work on unseen data"
   ]
  },
  {
   "cell_type": "code",
   "execution_count": null,
   "id": "33561f07",
   "metadata": {},
   "outputs": [],
   "source": [
    "df = pd.read_csv('sol_1h_data.csv', parse_dates=True, index_col=0)\n",
    "print(df)\n",
    "\n",
    "#only use data from 2024 onwards\n",
    "# df = df[df.index > pd.Timestamp('12-01-2024')]\n",
    "\n",
    "split_date = df.index[int(len(df) * 0.7)]\n",
    "\n",
    "df_train = df.loc[:split_date]\n",
    "df_test  = df.loc[split_date:]\n",
    "\n",
    "print('Training set:')\n",
    "print(df_train.describe())\n",
    "print('Testing set:')\n",
    "print(df_test.describe())\n",
    "\n",
    "\n",
    "\n"
   ]
  },
  {
   "cell_type": "markdown",
   "id": "6da1f47b",
   "metadata": {},
   "source": [
    "# Defining our strategy and its parameters\n",
    "- We define our strategy as `SMAStrategy` which is an instance of `Strategy` (a built in class)\n",
    "- We define the parameters that our strategy will use\n",
    "- Our strategy has to have these two functions: `init` and `next`\n",
    "## `init` function\n",
    "- init (initialise) is the function ran when the strategy is created\n",
    "- we use this function to define the logic that our trading bot will use\n",
    "- in this example we precompute short and long simple moving averages (SMAs) of the Close price\n",
    "- these precomputed values can then easily be used in the next function\n",
    "\n",
    "## `next` function\n",
    "- during the backtest, the next function will be ran on every single data point\n",
    "- this is where we include the actual trade execution logic\n",
    "- here we will enter a position (buy) when the short SMA crosses above the long SMA\n",
    "- we will close the position (sell) when the short SMA crosses below the long SMA\n",
    "- NOTE: this is simple logic where we only buy and sell spot, no shorts, we always buy with maximum available capital"
   ]
  },
  {
   "cell_type": "code",
   "execution_count": null,
   "id": "a457d9fc",
   "metadata": {},
   "outputs": [],
   "source": [
    "class SMAStrategy(Strategy):\n",
    "    sma_short_period = 10\n",
    "    sma_long_period = 30\n",
    "\n",
    "    def init(self):\n",
    "        close_prices = pd.Series(self.data.Close, index=self.data.index)\n",
    "        sma_short = close_prices.rolling(window=self.sma_short_period).mean()\n",
    "        sma_long = close_prices.rolling(window=self.sma_long_period).mean()\n",
    "        self.sma_short = self.I(lambda: sma_short, name='SMA_SHORT')\n",
    "        self.sma_long = self.I(lambda: sma_long, name='SMA_LONG')\n",
    "\n",
    "    def next(self):\n",
    "\n",
    "        #short term sma crosses above long term, signals reversal in momentum\n",
    "        #buy when crossover first happens, when prev candle did not cross\n",
    "        if self.sma_short[-1] > self.sma_long[-1] and self.sma_short[-2] <= self.sma_long[-2]:\n",
    "            self.buy()\n",
    "        elif self.sma_short[-1] < self.sma_long[-1] and self.sma_short[-2] >= self.sma_long[-2]:\n",
    "            self.position.close()"
   ]
  },
  {
   "cell_type": "markdown",
   "id": "0842b119",
   "metadata": {},
   "source": [
    "# Running a backtest on the strategy\n",
    "## Backtest function parameter explanation:\n",
    "- `df_train` - our dataset that we will run the strategy on\n",
    "- `SMAStrategy` - the instance of Strategy that we defined, the trading logic to be backtested\n",
    "- `cash` - how much money the backtest will begin with\n",
    "- `exclusive_orders` - whether or not we can have multiple trades open at the same time, in this instance True means we cannot\n",
    "- `finalize_trades` - at the end of the backtest any open trades will be closed at the final price in the dataset\n",
    "\n",
    "## Displaying key performance metrics\n",
    "- here we print the stats from the backtest\n",
    "- the power of backtesting.py is these metrics, they are all calculated for us allowing us to easily evaluate a strategy across these metrics"
   ]
  },
  {
   "cell_type": "code",
   "execution_count": null,
   "id": "1bed6f89",
   "metadata": {},
   "outputs": [],
   "source": [
    "bt_train = Backtest(df_train, SMAStrategy, cash=10000, exclusive_orders=True, finalize_trades=True)\n",
    "stats = bt_train.run()\n",
    "print(stats)"
   ]
  },
  {
   "cell_type": "markdown",
   "id": "f18f75e3",
   "metadata": {},
   "source": [
    "# Plotting the strategy to see a visualisation of the performance"
   ]
  },
  {
   "cell_type": "code",
   "execution_count": null,
   "id": "435b1d7d",
   "metadata": {},
   "outputs": [],
   "source": [
    "bt_train.plot()\n"
   ]
  },
  {
   "cell_type": "markdown",
   "id": "71f05594",
   "metadata": {},
   "source": [
    "# Now to optimise the strategy\n",
    "- Our strategy has parameters (e.g. `sma_short_period`, `sma_long_period`) we can optimise the strategy to find the best parameters\n",
    "- We can optimise for whatever we would like, in this instance we optimise for Sharpe Ratio\n",
    "- The optimise function will simply run through all possible combinations of parameters and find the one with the highest Sharpe Ratio\n",
    "- This can be slow, so we can add constraints for parameter combinations that we will allow. e.g. `sma_short_period` must be lower than `sma_long_period`\n"
   ]
  },
  {
   "cell_type": "code",
   "execution_count": null,
   "id": "871dc541",
   "metadata": {},
   "outputs": [],
   "source": [
    "def optimise(series):\n",
    "    return series['Sharpe Ratio']\n",
    "\n",
    "def constraint(series):\n",
    "    return series['sma_short_period'] < series['sma_long_period']\n"
   ]
  },
  {
   "cell_type": "markdown",
   "id": "566c4eae",
   "metadata": {},
   "source": [
    "# Running the optimisation\n",
    "- We provide ranges of values for each parameter that we want to be tested\n",
    "- `sma_short_period=range(10,20,5)` will test all combinations of the short SMA period from 10 to 20 incrementing by 5 each time. That is 10, 15, 20\n",
    "- as it is doing an exhaustive search, running backtests for all combinations, it can take a long time if we specify lots of values\n",
    "- take note that we specified to maximize for our optimise function (`maximize=optimise`), so it will find the parameters that maximise for whatever our optimise function returns. \n",
    "- It is important to note that if we wanted to optimise to minimise a metric we would change this, e.g. minimise the maximum drawdown faced by the strategy\n"
   ]
  },
  {
   "cell_type": "code",
   "execution_count": null,
   "id": "3f106f97",
   "metadata": {},
   "outputs": [],
   "source": [
    "stats_optimised = bt_train.optimize(\n",
    "    sma_short_period=range(10, 20, 5), \n",
    "    sma_long_period=range(20,50,5), \n",
    "    maximize=optimise, \n",
    "    constraint=constraint)"
   ]
  },
  {
   "cell_type": "code",
   "execution_count": null,
   "id": "9b5c649a",
   "metadata": {},
   "outputs": [],
   "source": [
    "print(stats)\n",
    "stats._strategy"
   ]
  },
  {
   "cell_type": "markdown",
   "id": "722ca685",
   "metadata": {},
   "source": [
    "# Now we will test the optimized parameters on the testing set\n",
    "- Here, we pass in `df_test`, our testing dataset which contains unseen data.  \n",
    "- We again call `.run()`, but this time we pass in our optimized parameters `.run(**stats_optimised._strategy._params)`. This runs the backtest using those parameters rather than the ones defined in the Strategy class.  \n",
    "- Finally, we print the performance statistics of this backtest to see how our optimized parameters performed on the testing set.  \n",
    "\n",
    "## Did we overfit?\n",
    "- We want to determine whether the optimized parameters were overfitted to the training set.  \n",
    "- Overfitting occurs when a strategy learns patterns that are too specific to the training data, failing to capture the general, repeatable signals we are aiming for.  \n",
    "- As a result, it performs well on the training data but fails to replicate that performance on unseen testing data.\n",
    "- We can compare performance on training set and testing set to determine if the parameters were overfit\n"
   ]
  },
  {
   "cell_type": "code",
   "execution_count": null,
   "id": "bc1b42f3",
   "metadata": {},
   "outputs": [],
   "source": [
    "bt_test = Backtest(df_test, SMAStrategy, cash=10000, exclusive_orders=True, finalize_trades=True)\n",
    "test_stats = bt_test.run(**stats_optimised._strategy._params)\n",
    "\n",
    "#printing all stats side by side for comparison\n",
    "print(f\"{'Metric':<30} | {'TRAINING (Before)':<25} | {'TRAINING (Optimized)':<25} | {'TEST SET':<25}\")\n",
    "print(\"-\" * 115)\n",
    "\n",
    "for metric in stats.index:\n",
    "    if metric not in ['_strategy', '_equity_curve', '_trades']:\n",
    "        train_before_val = stats[metric]\n",
    "        train_after_val = stats_optimised[metric]\n",
    "        test_val = test_stats[metric]\n",
    "        print(f\"{metric:<30} | {str(train_before_val):<25} | {str(train_after_val):<25} | {str(test_val):<25}\")\n"
   ]
  },
  {
   "cell_type": "markdown",
   "id": "cc3f10ce",
   "metadata": {},
   "source": [
    "# Plotting the optimised strategy on our test set to visualise its performance\n"
   ]
  },
  {
   "cell_type": "code",
   "execution_count": null,
   "id": "e75beaeb",
   "metadata": {},
   "outputs": [],
   "source": [
    "bt_test.plot()\n"
   ]
  }
 ],
 "metadata": {
  "kernelspec": {
   "display_name": "bot",
   "language": "python",
   "name": "python3"
  },
  "language_info": {
   "codemirror_mode": {
    "name": "ipython",
    "version": 3
   },
   "file_extension": ".py",
   "mimetype": "text/x-python",
   "name": "python",
   "nbconvert_exporter": "python",
   "pygments_lexer": "ipython3",
   "version": "3.13.9"
  }
 },
 "nbformat": 4,
 "nbformat_minor": 5
}
